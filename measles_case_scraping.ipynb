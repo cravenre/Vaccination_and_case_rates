{
 "cells": [
  {
   "cell_type": "code",
   "execution_count": 5,
   "metadata": {},
   "outputs": [],
   "source": [
    "import pandas as pd"
   ]
  },
  {
   "cell_type": "code",
   "execution_count": 23,
   "metadata": {},
   "outputs": [],
   "source": [
    "#Importing 2015 measles case data as table and exporting as csv\n",
    "tables = pd.read_html('https://www.cdc.gov/mmwr/volumes/64/wr/mm6453a1.htm?s_cid=mm6453a1_w#B-2-2_down')\n",
    "\n",
    "statemeasles_2015 = tables[11]\n",
    "statemeasles_2015.to_csv('data/statemeasles_2015.csv', index=False)"
   ]
  },
  {
   "cell_type": "code",
   "execution_count": 29,
   "metadata": {},
   "outputs": [],
   "source": [
    "#Importing 2014 measles case data as table and exporting as csv\n",
    "tables = pd.read_html('https://www.cdc.gov/mmwr/volumes/63/wr/mm6354a1.htm?s_cid=mm6354a1_w')\n",
    "statemeasles_2014 = tables[9]\n",
    "statemeasles_2014.to_csv('data/statemeasles_2014.csv', index=False)"
   ]
  },
  {
   "cell_type": "code",
   "execution_count": 31,
   "metadata": {},
   "outputs": [],
   "source": [
    "#Importing 2013 measles case data as table and exporting as csv\n",
    "tables = pd.read_html('https://www.cdc.gov/mmwr/preview/mmwrhtml/mm6253a1.htm')\n",
    "statemeasles_2013 = tables[12]\n",
    "statemeasles_2013.to_csv('data/statemeasles_2013.csv', index=False)"
   ]
  },
  {
   "cell_type": "code",
   "execution_count": 34,
   "metadata": {},
   "outputs": [],
   "source": [
    "#Importing 2012 measles case data as table and exporting as csv\n",
    "tables = pd.read_html('https://www.cdc.gov/mmwr/preview/mmwrhtml/mm6153a1.htm')\n",
    "statemeasles_2012 = tables[12]\n",
    "statemeasles_2012.to_csv('data/statemeasles_2012.csv', index=False)"
   ]
  },
  {
   "cell_type": "code",
   "execution_count": 37,
   "metadata": {},
   "outputs": [],
   "source": [
    "#Importing 2011 measles case data as table and exporting as csv\n",
    "tables = pd.read_html('https://www.cdc.gov/mmwr/preview/mmwrhtml/mm6053a1.htm')\n",
    "statemeasles_2011 = tables[11]\n",
    "statemeasles_2011.to_csv('data/statemeasles_2011.csv', index=False)"
   ]
  },
  {
   "cell_type": "code",
   "execution_count": 38,
   "metadata": {},
   "outputs": [],
   "source": [
    "#Importing 2010 measles case data as table and exporting as csv\n",
    "tables = pd.read_html('https://www.cdc.gov/mmwr/preview/mmwrhtml/mm5953a1.htm')\n",
    "statemeasles_2010 = tables[11]\n",
    "statemeasles_2010.to_csv('data/statemeasles_2010.csv', index=False)"
   ]
  },
  {
   "cell_type": "code",
   "execution_count": 41,
   "metadata": {},
   "outputs": [],
   "source": [
    "#Importing 2009 measles case data as table and exporting as csv\n",
    "tables = pd.read_html('https://www.cdc.gov/mmwr/preview/mmwrhtml/mm5853a1.htm')\n",
    "statemeasles_2009 = tables[12]\n",
    "statemeasles_2009.to_csv('data/statemeasles_2009.csv', index=False)"
   ]
  }
 ],
 "metadata": {
  "kernelspec": {
   "display_name": "Python 3",
   "language": "python",
   "name": "python3"
  },
  "language_info": {
   "codemirror_mode": {
    "name": "ipython",
    "version": 3
   },
   "file_extension": ".py",
   "mimetype": "text/x-python",
   "name": "python",
   "nbconvert_exporter": "python",
   "pygments_lexer": "ipython3",
   "version": "3.7.3"
  }
 },
 "nbformat": 4,
 "nbformat_minor": 2
}
